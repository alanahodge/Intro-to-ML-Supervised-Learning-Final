{
 "cells": [
  {
   "cell_type": "markdown",
   "metadata": {},
   "source": [
    "# Introduction To Machine Learning: Supervised Learning - Final Project"
   ]
  },
  {
   "cell_type": "markdown",
   "metadata": {},
   "source": [
    "### Introduction\n",
    "\n",
    "\n",
    "#### Project Topic\n",
    "For my final project for DTSA 5509, I've decided to utilize an infamous dataset from Kaggle, to predict whether or not a given passenger on the Titanic survived its sinking in 1912.\n",
    "\n",
    "Thus, this project is a *Binary Classification Task* with *Supervised learning*. Binary classification involves assigning each instance to one of two possible categories, which in this case are simply *survived* or *did not survived*.\n",
    "\n",
    "Moreover the *goal* of this project is to build a model (or models!) that can predict a passenger's survival based on the data, but I also aim to achieve the following objectives where necessary:\n",
    "1. Complete Exploratory Data Analysis (EDA)\n",
    "2. Feature Engineering (if possible)\n",
    "3. Building a model using appropriate machine learning algorithms\n",
    "4. Evaluating results of the model\n",
    "5. Effectively Communicating Results\n",
    "\n",
    "### Data\n",
    "The data used for this project is part of an infamous dataset found on Kaggle (https://www.kaggle.com/), a data science competition platform and online community that hosts a plethora of datasets for the purposes of education, application and practice.\n",
    "\n",
    "The data set we'll be using is called the *Titanic - Machine Learning From Disaster* dataset.\n",
    "This data is liscenced to use for Academic and Non-Commercial use by Kaggle (https://opendatacommons.org/licenses/dbcl/1-0/).\n",
    "\n",
    "APA Citation: \n",
    "* Kaggle. (2012, September 28). Titanic - machine learning from disaster. https://www.kaggle.com/competitions/titanic/data?select=train.csv *\n",
    "\n",
    "#### The data has the following size:\n",
    "- Data set size = 61.19kB\n",
    "- 12 columns, 891 rows/observations.\n",
    "- One table (i.e. NOT multi-tabular)\n",
    "\n",
    "#### Attribute Information\n",
    "| Attribute name | Description                                                                                                                                         | Key                                                                         | Data Type |\n",
    "|----------------|-----------------------------------------------------------------------------------------------------------------------------------------------------|-----------------------------------------------------------------------------|-----------|\n",
    "| survival       | Whether or not the passenger survived                                                                                                               | 0 = No, 1 = Yes                                                             | Int       |\n",
    "| pclass         | Ticket Class. A proxy for socioeconomic status.                                                                                                     | 1 = First class (Upper), 2 = Second Class (Middle), 3 = Third Class (Lower) | Int       |\n",
    "| Sex            | sex of passenger                                                                                                                                    | \"female\" or \"male\"                                                          | Object    |\n",
    "| Age            | age of passenger in years                                                                                                                           | float value > 0.0 Age is fractional if less than 1                          | Float     |\n",
    "| SibSp          | Number of siblings/spouses aboard the Titanic.  Sibling = brother, sister, stepsibling Spouse = husband, wife (mistresses and fiances were ignored) | Int value >= 0                                                              | Int       |\n",
    "| Parch          | Number of parents / children abroad the Titanic.  Children who travelled only with a nanny are given a Parch value of 0                             | Int value >= 0                                                              | Int       |\n",
    "| Ticket         | Ticket Number of passenger                                                                                                                          | String unique to each passenger                                             | Object    |\n",
    "| Fare           | Passenger fare paid.                                                                                                                                | float >= 0.0                                                                | Float     |\n",
    "| Cabin          | Cabin number of passenger                                                                                                                           | String, not necessarily unique to each passanger                            | Object    |\n",
    "| Embarked       | Port of Embarkation (i.e. Where they boarded the ship from) C = Cherbourg Q = Queenstown S = Southampton                                            | Single Character of [\"C\", \"Q\", \"S\"]                                         | Object    |"
   ]
  },
  {
   "cell_type": "markdown",
   "metadata": {},
   "source": [
    "#### Import Statements"
   ]
  },
  {
   "cell_type": "code",
   "execution_count": 208,
   "metadata": {},
   "outputs": [],
   "source": [
    "#import libraries\n",
    "import pandas as pd\n",
    "import numpy as np\n",
    "import matplotlib.pyplot as plt\n",
    "import seaborn as sns\n",
    "import scipy.stats as stats\n",
    "\n",
    "from sklearn.model_selection import train_test_split, cross_val_predict, cross_val_score, StratifiedKFold\n",
    "from sklearn.preprocessing import StandardScaler\n",
    "from sklearn.linear_model import LogisticRegression\n",
    "from sklearn.ensemble import RandomForestClassifier\n",
    "from sklearn.metrics import accuracy_score\n",
    "from sklearn.metrics import precision_score, recall_score, f1_score\n",
    "from imblearn.over_sampling import SMOTE \n",
    "\n",
    "#import data\n",
    "df = pd.read_csv(\"./Titanic_Data/train.csv\")"
   ]
  },
  {
   "cell_type": "markdown",
   "metadata": {},
   "source": [
    "### Data Cleaning"
   ]
  },
  {
   "cell_type": "markdown",
   "metadata": {},
   "source": [
    "#### Basic Inspection"
   ]
  },
  {
   "cell_type": "code",
   "execution_count": 209,
   "metadata": {},
   "outputs": [
    {
     "name": "stdout",
     "output_type": "stream",
     "text": [
      "<class 'pandas.core.frame.DataFrame'>\n",
      "RangeIndex: 891 entries, 0 to 890\n",
      "Data columns (total 12 columns):\n",
      " #   Column       Non-Null Count  Dtype  \n",
      "---  ------       --------------  -----  \n",
      " 0   PassengerId  891 non-null    int64  \n",
      " 1   Survived     891 non-null    int64  \n",
      " 2   Pclass       891 non-null    int64  \n",
      " 3   Name         891 non-null    object \n",
      " 4   Sex          891 non-null    object \n",
      " 5   Age          714 non-null    float64\n",
      " 6   SibSp        891 non-null    int64  \n",
      " 7   Parch        891 non-null    int64  \n",
      " 8   Ticket       891 non-null    object \n",
      " 9   Fare         891 non-null    float64\n",
      " 10  Cabin        204 non-null    object \n",
      " 11  Embarked     889 non-null    object \n",
      "dtypes: float64(2), int64(5), object(5)\n",
      "memory usage: 83.7+ KB\n"
     ]
    }
   ],
   "source": [
    "df.info()"
   ]
  },
  {
   "cell_type": "markdown",
   "metadata": {},
   "source": [
    "We'll start with some basic inspection.\n",
    "\n",
    "1. What column in the data is the target?\n",
    "   1. : df.Survived\n",
    "2. How many feautres are in the data?\n",
    "   1. : Including the target and prior to cleaning, 12 features/columns in total.\n",
    "3. How many observations/samples are there in the data?\n",
    "   1.  : 891\n",
    "4. How many features have null values based on the data overview? \n",
    "   1. : Three features have null values: Age, Cabin and Embarked\n",
    "   \n",
    "   \n"
   ]
  },
  {
   "cell_type": "markdown",
   "metadata": {},
   "source": [
    "### Handling Missing Values/Nulls\n",
    "\n",
    "Now, let's analyze the null-values in the data. We've identified three features that definitely have nulls in them, but to be on the safe side, let's analyze all feautres to make sure there aren't any string-typed nulls that weren't detected."
   ]
  },
  {
   "cell_type": "code",
   "execution_count": 210,
   "metadata": {},
   "outputs": [
    {
     "name": "stdout",
     "output_type": "stream",
     "text": [
      "PassengerId 0 0\n",
      "Survived 0 0\n",
      "Pclass 0 0\n",
      "Name 0 0\n",
      "Sex 0 0\n",
      "Age 177 0\n",
      "SibSp 0 0\n",
      "Parch 0 0\n",
      "Ticket 0 0\n",
      "Fare 0 0\n",
      "Cabin 687 0\n",
      "Embarked 2 0\n"
     ]
    }
   ],
   "source": [
    "a = [np.nan, None, [], {}, 'NaN', 'Null','NULL','None','NA','?','-', '.','', ' ', '   ']\n",
    "for c in df.columns:\n",
    "    string_null = np.array([x in a[2:] for x in df[c]])\n",
    "    print(c, df[c].isnull().sum(), string_null.sum()) \n"
   ]
  },
  {
   "cell_type": "markdown",
   "metadata": {},
   "source": [
    "Looks like we were right, only the Age, Cabin and Embarked features have missing/null values, and they're not string-typed nulls. Let's look at each of these three features"
   ]
  },
  {
   "cell_type": "markdown",
   "metadata": {},
   "source": [
    "###### Age Feature\n",
    "The age feature has 177 missing values, which is roughly 21% of the data.\n",
    "\n",
    "Since it's such a high porportion of the data, we shouldn't just drop those observations. Instead, let's inspect the observations where Age is missing and see if we impute these missing values with either the Age median or the Age mean."
   ]
  },
  {
   "cell_type": "code",
   "execution_count": 211,
   "metadata": {},
   "outputs": [
    {
     "data": {
      "text/html": [
       "<div>\n",
       "<style scoped>\n",
       "    .dataframe tbody tr th:only-of-type {\n",
       "        vertical-align: middle;\n",
       "    }\n",
       "\n",
       "    .dataframe tbody tr th {\n",
       "        vertical-align: top;\n",
       "    }\n",
       "\n",
       "    .dataframe thead th {\n",
       "        text-align: right;\n",
       "    }\n",
       "</style>\n",
       "<table border=\"1\" class=\"dataframe\">\n",
       "  <thead>\n",
       "    <tr style=\"text-align: right;\">\n",
       "      <th></th>\n",
       "      <th>PassengerId</th>\n",
       "      <th>Survived</th>\n",
       "      <th>Pclass</th>\n",
       "      <th>Name</th>\n",
       "      <th>Sex</th>\n",
       "      <th>Age</th>\n",
       "      <th>SibSp</th>\n",
       "      <th>Parch</th>\n",
       "      <th>Ticket</th>\n",
       "      <th>Fare</th>\n",
       "      <th>Cabin</th>\n",
       "      <th>Embarked</th>\n",
       "    </tr>\n",
       "  </thead>\n",
       "  <tbody>\n",
       "    <tr>\n",
       "      <th>5</th>\n",
       "      <td>6</td>\n",
       "      <td>0</td>\n",
       "      <td>3</td>\n",
       "      <td>Moran, Mr. James</td>\n",
       "      <td>male</td>\n",
       "      <td>NaN</td>\n",
       "      <td>0</td>\n",
       "      <td>0</td>\n",
       "      <td>330877</td>\n",
       "      <td>8.4583</td>\n",
       "      <td>NaN</td>\n",
       "      <td>Q</td>\n",
       "    </tr>\n",
       "    <tr>\n",
       "      <th>17</th>\n",
       "      <td>18</td>\n",
       "      <td>1</td>\n",
       "      <td>2</td>\n",
       "      <td>Williams, Mr. Charles Eugene</td>\n",
       "      <td>male</td>\n",
       "      <td>NaN</td>\n",
       "      <td>0</td>\n",
       "      <td>0</td>\n",
       "      <td>244373</td>\n",
       "      <td>13.0000</td>\n",
       "      <td>NaN</td>\n",
       "      <td>S</td>\n",
       "    </tr>\n",
       "    <tr>\n",
       "      <th>19</th>\n",
       "      <td>20</td>\n",
       "      <td>1</td>\n",
       "      <td>3</td>\n",
       "      <td>Masselmani, Mrs. Fatima</td>\n",
       "      <td>female</td>\n",
       "      <td>NaN</td>\n",
       "      <td>0</td>\n",
       "      <td>0</td>\n",
       "      <td>2649</td>\n",
       "      <td>7.2250</td>\n",
       "      <td>NaN</td>\n",
       "      <td>C</td>\n",
       "    </tr>\n",
       "    <tr>\n",
       "      <th>26</th>\n",
       "      <td>27</td>\n",
       "      <td>0</td>\n",
       "      <td>3</td>\n",
       "      <td>Emir, Mr. Farred Chehab</td>\n",
       "      <td>male</td>\n",
       "      <td>NaN</td>\n",
       "      <td>0</td>\n",
       "      <td>0</td>\n",
       "      <td>2631</td>\n",
       "      <td>7.2250</td>\n",
       "      <td>NaN</td>\n",
       "      <td>C</td>\n",
       "    </tr>\n",
       "    <tr>\n",
       "      <th>28</th>\n",
       "      <td>29</td>\n",
       "      <td>1</td>\n",
       "      <td>3</td>\n",
       "      <td>O'Dwyer, Miss. Ellen \"Nellie\"</td>\n",
       "      <td>female</td>\n",
       "      <td>NaN</td>\n",
       "      <td>0</td>\n",
       "      <td>0</td>\n",
       "      <td>330959</td>\n",
       "      <td>7.8792</td>\n",
       "      <td>NaN</td>\n",
       "      <td>Q</td>\n",
       "    </tr>\n",
       "    <tr>\n",
       "      <th>29</th>\n",
       "      <td>30</td>\n",
       "      <td>0</td>\n",
       "      <td>3</td>\n",
       "      <td>Todoroff, Mr. Lalio</td>\n",
       "      <td>male</td>\n",
       "      <td>NaN</td>\n",
       "      <td>0</td>\n",
       "      <td>0</td>\n",
       "      <td>349216</td>\n",
       "      <td>7.8958</td>\n",
       "      <td>NaN</td>\n",
       "      <td>S</td>\n",
       "    </tr>\n",
       "    <tr>\n",
       "      <th>31</th>\n",
       "      <td>32</td>\n",
       "      <td>1</td>\n",
       "      <td>1</td>\n",
       "      <td>Spencer, Mrs. William Augustus (Marie Eugenie)</td>\n",
       "      <td>female</td>\n",
       "      <td>NaN</td>\n",
       "      <td>1</td>\n",
       "      <td>0</td>\n",
       "      <td>PC 17569</td>\n",
       "      <td>146.5208</td>\n",
       "      <td>B78</td>\n",
       "      <td>C</td>\n",
       "    </tr>\n",
       "    <tr>\n",
       "      <th>32</th>\n",
       "      <td>33</td>\n",
       "      <td>1</td>\n",
       "      <td>3</td>\n",
       "      <td>Glynn, Miss. Mary Agatha</td>\n",
       "      <td>female</td>\n",
       "      <td>NaN</td>\n",
       "      <td>0</td>\n",
       "      <td>0</td>\n",
       "      <td>335677</td>\n",
       "      <td>7.7500</td>\n",
       "      <td>NaN</td>\n",
       "      <td>Q</td>\n",
       "    </tr>\n",
       "    <tr>\n",
       "      <th>36</th>\n",
       "      <td>37</td>\n",
       "      <td>1</td>\n",
       "      <td>3</td>\n",
       "      <td>Mamee, Mr. Hanna</td>\n",
       "      <td>male</td>\n",
       "      <td>NaN</td>\n",
       "      <td>0</td>\n",
       "      <td>0</td>\n",
       "      <td>2677</td>\n",
       "      <td>7.2292</td>\n",
       "      <td>NaN</td>\n",
       "      <td>C</td>\n",
       "    </tr>\n",
       "    <tr>\n",
       "      <th>42</th>\n",
       "      <td>43</td>\n",
       "      <td>0</td>\n",
       "      <td>3</td>\n",
       "      <td>Kraeff, Mr. Theodor</td>\n",
       "      <td>male</td>\n",
       "      <td>NaN</td>\n",
       "      <td>0</td>\n",
       "      <td>0</td>\n",
       "      <td>349253</td>\n",
       "      <td>7.8958</td>\n",
       "      <td>NaN</td>\n",
       "      <td>C</td>\n",
       "    </tr>\n",
       "  </tbody>\n",
       "</table>\n",
       "</div>"
      ],
      "text/plain": [
       "    PassengerId  Survived  Pclass  \\\n",
       "5             6         0       3   \n",
       "17           18         1       2   \n",
       "19           20         1       3   \n",
       "26           27         0       3   \n",
       "28           29         1       3   \n",
       "29           30         0       3   \n",
       "31           32         1       1   \n",
       "32           33         1       3   \n",
       "36           37         1       3   \n",
       "42           43         0       3   \n",
       "\n",
       "                                              Name     Sex  Age  SibSp  Parch  \\\n",
       "5                                 Moran, Mr. James    male  NaN      0      0   \n",
       "17                    Williams, Mr. Charles Eugene    male  NaN      0      0   \n",
       "19                         Masselmani, Mrs. Fatima  female  NaN      0      0   \n",
       "26                         Emir, Mr. Farred Chehab    male  NaN      0      0   \n",
       "28                   O'Dwyer, Miss. Ellen \"Nellie\"  female  NaN      0      0   \n",
       "29                             Todoroff, Mr. Lalio    male  NaN      0      0   \n",
       "31  Spencer, Mrs. William Augustus (Marie Eugenie)  female  NaN      1      0   \n",
       "32                        Glynn, Miss. Mary Agatha  female  NaN      0      0   \n",
       "36                                Mamee, Mr. Hanna    male  NaN      0      0   \n",
       "42                             Kraeff, Mr. Theodor    male  NaN      0      0   \n",
       "\n",
       "      Ticket      Fare Cabin Embarked  \n",
       "5     330877    8.4583   NaN        Q  \n",
       "17    244373   13.0000   NaN        S  \n",
       "19      2649    7.2250   NaN        C  \n",
       "26      2631    7.2250   NaN        C  \n",
       "28    330959    7.8792   NaN        Q  \n",
       "29    349216    7.8958   NaN        S  \n",
       "31  PC 17569  146.5208   B78        C  \n",
       "32    335677    7.7500   NaN        Q  \n",
       "36      2677    7.2292   NaN        C  \n",
       "42    349253    7.8958   NaN        C  "
      ]
     },
     "execution_count": 211,
     "metadata": {},
     "output_type": "execute_result"
    }
   ],
   "source": [
    "df_age_null = df.loc[df[\"Age\"].isnull()]\n",
    "df_age_null.head(n=10)"
   ]
  },
  {
   "cell_type": "markdown",
   "metadata": {},
   "source": [
    "Since we can't justify why these age values may be missing, and they appear to be somewhat random (perhaps not every passenger gave their age when booking their passage on the Titanic), let's imput these missing values. \n",
    "\n",
    "We'll create a histogram in order to view the distribution of the Age feature so that we can decide whether to impute using the mean or the median."
   ]
  },
  {
   "cell_type": "code",
   "execution_count": 212,
   "metadata": {},
   "outputs": [
    {
     "name": "stdout",
     "output_type": "stream",
     "text": [
      "Age Median =  28.0\n",
      "Age Mean =  29.69911764705882\n"
     ]
    },
    {
     "data": {
      "text/plain": [
       "(array([ 54.,  46., 177., 169., 118.,  70.,  45.,  24.,   9.,   2.]),\n",
       " array([ 0.42 ,  8.378, 16.336, 24.294, 32.252, 40.21 , 48.168, 56.126,\n",
       "        64.084, 72.042, 80.   ]),\n",
       " <a list of 10 Patch objects>)"
      ]
     },
     "execution_count": 212,
     "metadata": {},
     "output_type": "execute_result"
    },
    {
     "data": {
      "image/png": "[encoded data removed]",
      "text/plain": [
       "<Figure size 432x288 with 1 Axes>"
      ]
     },
     "metadata": {
      "needs_background": "light"
     },
     "output_type": "display_data"
    }
   ],
   "source": [
    "df_age_not_null = df.loc[~df[\"Age\"].isnull()]\n",
    "\n",
    "counts, bins = np.histogram(df_age_not_null[\"Age\"])\n",
    "fig1 = plt.hist(bins[:-1], bins, weights=counts)\n",
    "plt.xlabel(\"Age\")\n",
    "plt.ylabel(\"Frequency\")\n",
    "plt.title(\"Figure 1: Histogram - Frequency of non-null Age values in Data\")\n",
    "print(\"Age Median = \", df_age_not_null[\"Age\"].median())\n",
    "print(\"Age Mean = \", df_age_not_null[\"Age\"].mean())\n",
    "fig1"
   ]
  },
  {
   "cell_type": "markdown",
   "metadata": {},
   "source": [
    "Looks like the mean and the median aren't too far off from each other, but the data is pretty skewed in the middle;\n",
    "most of the passengers seem to be between 20 - 30 years old.\n",
    "\n",
    "Since the data isn't very symmetric and is sort of skewed towards the center, *let's impute with the median age*."
   ]
  },
  {
   "cell_type": "code",
   "execution_count": 213,
   "metadata": {},
   "outputs": [],
   "source": [
    "#Impute Age null values with median.\n",
    "median = df_age_not_null[\"Age\"].median()\n",
    "df[\"Age\"].fillna(median, inplace = True)"
   ]
  },
  {
   "cell_type": "code",
   "execution_count": 214,
   "metadata": {},
   "outputs": [],
   "source": [
    "#Sanity Check:\n",
    "assert(df.Age.isnull().sum() == 0)"
   ]
  },
  {
   "cell_type": "markdown",
   "metadata": {},
   "source": [
    "###### Embarked Feature\n",
    "The Embarked feature only has 2 missing values, which is less than 0.3% of the data.\n",
    "Since it's such a small amount of data (only 2 observations), we can reasonably drop these records without worrying too much\n",
    "about how it might affect the model."
   ]
  },
  {
   "cell_type": "code",
   "execution_count": 215,
   "metadata": {},
   "outputs": [],
   "source": [
    "df_new = df.dropna(subset=[\"Embarked\"])\n",
    "\n",
    "#Sanity Check\n",
    "assert(len(df_new) == (len(df) - 2))\n",
    "\n",
    "df = df_new"
   ]
  },
  {
   "cell_type": "markdown",
   "metadata": {},
   "source": [
    "###### Cabin Feature\n",
    "The Cabin feature has 204 missing values. If the two observations that were dropped due to missing in the Embarked Feature were part of this group, then it has 202 missing values. Either way, this accounts for ~23% of the total data.\n",
    "\n",
    "The Cabin Feature itself has a dtype of Object, because the Cabins are represented as strings, with a combination of digits and numbers, as shown below:"
   ]
  },
  {
   "cell_type": "code",
   "execution_count": 216,
   "metadata": {},
   "outputs": [
    {
     "data": {
      "text/plain": [
       "array([nan, 'C85', 'C123', 'E46', 'G6', 'C103', 'D56', 'A6',\n",
       "       'C23 C25 C27', 'B78', 'D33', 'B30', 'C52', 'C83', 'F33', 'F G73',\n",
       "       'E31', 'A5', 'D10 D12', 'D26', 'C110', 'B58 B60', 'E101', 'F E69',\n",
       "       'D47', 'B86', 'F2', 'C2', 'E33', 'B19', 'A7', 'C49', 'F4', 'A32',\n",
       "       'B4', 'B80', 'A31', 'D36', 'D15', 'C93', 'C78', 'D35', 'C87',\n",
       "       'B77', 'E67', 'B94', 'C125', 'C99', 'C118', 'D7', 'A19', 'B49',\n",
       "       'D', 'C22 C26', 'C106', 'C65', 'E36', 'C54', 'B57 B59 B63 B66',\n",
       "       'C7', 'E34', 'C32', 'B18', 'C124', 'C91', 'E40', 'T', 'C128',\n",
       "       'D37', 'B35', 'E50', 'C82', 'B96 B98', 'E10', 'E44', 'A34', 'C104',\n",
       "       'C111', 'C92', 'E38', 'D21', 'E12', 'E63', 'A14', 'B37', 'C30',\n",
       "       'D20', 'B79', 'E25', 'D46', 'B73', 'C95', 'B38', 'B39', 'B22',\n",
       "       'C86', 'C70', 'A16', 'C101', 'C68', 'A10', 'E68', 'B41', 'A20',\n",
       "       'D19', 'D50', 'D9', 'A23', 'B50', 'A26', 'D48', 'E58', 'C126',\n",
       "       'B71', 'B51 B53 B55', 'D49', 'B5', 'B20', 'F G63', 'C62 C64',\n",
       "       'E24', 'C90', 'C45', 'E8', 'B101', 'D45', 'C46', 'D30', 'E121',\n",
       "       'D11', 'E77', 'F38', 'B3', 'D6', 'B82 B84', 'D17', 'A36', 'B102',\n",
       "       'B69', 'E49', 'C47', 'D28', 'E17', 'A24', 'C50', 'B42', 'C148'],\n",
       "      dtype=object)"
      ]
     },
     "execution_count": 216,
     "metadata": {},
     "output_type": "execute_result"
    }
   ],
   "source": [
    "df.Cabin.unique()"
   ]
  },
  {
   "cell_type": "markdown",
   "metadata": {},
   "source": [
    "It seems illogical to try to impute a cabin number, seeing as though they are pretty specific values. Furthermore, in this domain we can assume that the cabin that the passenger was in may have a strong correlation to their likelihood of survival.\n",
    "\n",
    "For the sake of argument, let's say we were to remove the Cabin feature all together. Since we can assume that a passenger's cabin most likely corresponded to their socioeconomic class (e.g. higher class probably indicates a passenger was in a more suitable/well-off cabin), let's see if we can derive that similar information from other features.\n",
    "\n",
    "Hypothesis: There is a correlation between the features Pclass and Fare, as we can assume that a passenger who paid a lot more money for their fare on the Titanic is probably of higher socioeconomic status, and lower fare would indicate a lower socioeonomic status.\n",
    "\n",
    "Let's see if we can see this hypothesis in a Scatterplot."
   ]
  },
  {
   "cell_type": "code",
   "execution_count": 217,
   "metadata": {},
   "outputs": [
    {
     "data": {
      "text/plain": [
       "<matplotlib.collections.PathCollection at 0x194b99108b0>"
      ]
     },
     "execution_count": 217,
     "metadata": {},
     "output_type": "execute_result"
    },
    {
     "data": {
      "image/png": "[encoded data removed]",
      "text/plain": [
       "<Figure size 432x288 with 1 Axes>"
      ]
     },
     "metadata": {
      "needs_background": "light"
     },
     "output_type": "display_data"
    }
   ],
   "source": [
    "#Scatterplot: Fare vs. PClass\n",
    "fig2 = plt.scatter(df.Fare, df.Pclass, c = \"DarkBlue\")\n",
    "plt.xlabel(\"Fare\")\n",
    "plt.ylabel(\"Class\")\n",
    "plt.title(\"Figure 2: Scatterplot of Passenger Fare vs Pclass\")\n",
    "fig2"
   ]
  },
  {
   "cell_type": "markdown",
   "metadata": {},
   "source": [
    "It doesn't look like there's any obvious corrolation between Fare and Pclass that might make up any information about the positioning of passengers that we may want to capture in the data.\n",
    "\n",
    "For now, let's make the null values into their own seperate category, and we'll use feature engineering latter on to let the model use this information, if we still decide to use this feature entirely."
   ]
  },
  {
   "cell_type": "code",
   "execution_count": 218,
   "metadata": {},
   "outputs": [],
   "source": [
    "#Impute all np.nan values in the Cabin feature to a new label: \"Unknown\", for the time being.\n",
    "df.loc[df['Cabin'].isnull(), \"Cabin\"] = \"Unknown\"\n"
   ]
  },
  {
   "cell_type": "markdown",
   "metadata": {},
   "source": [
    "Since we've addressed all of the features with missing values/null values, let's take a quick look to make sure we have no more nulls in the data before we move on."
   ]
  },
  {
   "cell_type": "code",
   "execution_count": 219,
   "metadata": {},
   "outputs": [
    {
     "name": "stdout",
     "output_type": "stream",
     "text": [
      "<class 'pandas.core.frame.DataFrame'>\n",
      "Int64Index: 889 entries, 0 to 890\n",
      "Data columns (total 12 columns):\n",
      " #   Column       Non-Null Count  Dtype  \n",
      "---  ------       --------------  -----  \n",
      " 0   PassengerId  889 non-null    int64  \n",
      " 1   Survived     889 non-null    int64  \n",
      " 2   Pclass       889 non-null    int64  \n",
      " 3   Name         889 non-null    object \n",
      " 4   Sex          889 non-null    object \n",
      " 5   Age          889 non-null    float64\n",
      " 6   SibSp        889 non-null    int64  \n",
      " 7   Parch        889 non-null    int64  \n",
      " 8   Ticket       889 non-null    object \n",
      " 9   Fare         889 non-null    float64\n",
      " 10  Cabin        889 non-null    object \n",
      " 11  Embarked     889 non-null    object \n",
      "dtypes: float64(2), int64(5), object(5)\n",
      "memory usage: 90.3+ KB\n"
     ]
    }
   ],
   "source": [
    "#Sanity Check\n",
    "df.info()"
   ]
  },
  {
   "cell_type": "markdown",
   "metadata": {},
   "source": [
    "### Data Munging\n",
    "\n",
    "Now that we've handled the nulls/missing values in our data, let's move onto data munging.\n",
    "Here, we'll look at the characteristics of each attribute in the data, and handle any data type conversions, feature engineering, and encoding where necessary."
   ]
  },
  {
   "cell_type": "markdown",
   "metadata": {},
   "source": [
    "###### Cabin Feature Engineering and Conversion\n",
    "Since we know that Cabin may hold some important information about the location of the passengers on the Titanic, let's look at how we can create a suitable feature so that the model can use this information when learning.\n",
    "\n",
    "Moreover, this attribute has an object data type. For the sake of simplicity and so that we can be sure we give the model useful information only, we should try to convert this attribute to a numeric type (e.g. int64 or float64) for consistency."
   ]
  },
  {
   "cell_type": "code",
   "execution_count": 220,
   "metadata": {},
   "outputs": [
    {
     "data": {
      "text/plain": [
       "array(['Unknown', 'C85', 'C123', 'E46', 'G6', 'C103', 'D56', 'A6',\n",
       "       'C23 C25 C27', 'B78', 'D33', 'B30', 'C52', 'C83', 'F33', 'F G73',\n",
       "       'E31', 'A5', 'D10 D12', 'D26', 'C110', 'B58 B60', 'E101', 'F E69',\n",
       "       'D47', 'B86', 'F2', 'C2', 'E33', 'B19', 'A7', 'C49', 'F4', 'A32',\n",
       "       'B4', 'B80', 'A31', 'D36', 'D15', 'C93', 'C78', 'D35', 'C87',\n",
       "       'B77', 'E67', 'B94', 'C125', 'C99', 'C118', 'D7', 'A19', 'B49',\n",
       "       'D', 'C22 C26', 'C106', 'C65', 'E36', 'C54', 'B57 B59 B63 B66',\n",
       "       'C7', 'E34', 'C32', 'B18', 'C124', 'C91', 'E40', 'T', 'C128',\n",
       "       'D37', 'B35', 'E50', 'C82', 'B96 B98', 'E10', 'E44', 'A34', 'C104',\n",
       "       'C111', 'C92', 'E38', 'D21', 'E12', 'E63', 'A14', 'B37', 'C30',\n",
       "       'D20', 'B79', 'E25', 'D46', 'B73', 'C95', 'B38', 'B39', 'B22',\n",
       "       'C86', 'C70', 'A16', 'C101', 'C68', 'A10', 'E68', 'B41', 'A20',\n",
       "       'D19', 'D50', 'D9', 'A23', 'B50', 'A26', 'D48', 'E58', 'C126',\n",
       "       'B71', 'B51 B53 B55', 'D49', 'B5', 'B20', 'F G63', 'C62 C64',\n",
       "       'E24', 'C90', 'C45', 'E8', 'B101', 'D45', 'C46', 'D30', 'E121',\n",
       "       'D11', 'E77', 'F38', 'B3', 'D6', 'B82 B84', 'D17', 'A36', 'B102',\n",
       "       'B69', 'E49', 'C47', 'D28', 'E17', 'A24', 'C50', 'B42', 'C148'],\n",
       "      dtype=object)"
      ]
     },
     "execution_count": 220,
     "metadata": {},
     "output_type": "execute_result"
    }
   ],
   "source": [
    "#Looking at the values in the Cabin attribute:\n",
    "df.Cabin.unique()"
   ]
  },
  {
   "cell_type": "markdown",
   "metadata": {},
   "source": [
    "With domain knowledge handy, we can perhaps assume that each letter corresponds to perhaps the level or deck of the ship.\n",
    "For the purposes of modeling, let's feature engineer a new attribute that maps each passenger's Cabin number to a deck level. We'll also keep the \"Unknown\" level that we imputed in, and map it to a value such as 0 to indicate a lack of information."
   ]
  },
  {
   "cell_type": "code",
   "execution_count": 221,
   "metadata": {},
   "outputs": [
    {
     "data": {
      "text/plain": [
       "array([0, 3, 5, 7, 4, 1, 2, 6, 8], dtype=int64)"
      ]
     },
     "execution_count": 221,
     "metadata": {},
     "output_type": "execute_result"
    }
   ],
   "source": [
    "#Create new Cabin feature \"Deck Level\"\n",
    "deck_mapping = {'A':1, \"B\":2, \"C\":3, \"D\":4, \"E\":5, \"F\":6, \"G\":7, \"T\":8, \"Unknown\":0}\n",
    "df['Cabin_level'] = df['Cabin'].apply(lambda cabin: cabin[0] if cabin != \"Unknown\" else \"Unknown\")\n",
    "df[\"deck_level\"] = df[\"Cabin_level\"].map(deck_mapping)\n",
    "df.deck_level.unique()"
   ]
  },
  {
   "cell_type": "markdown",
   "metadata": {},
   "source": [
    "Now, we can finish up by dropping the old Cabin attribute (as well as the copy of it that we made), and ensure that the new feature deck_level is a numeric type!"
   ]
  },
  {
   "cell_type": "code",
   "execution_count": 222,
   "metadata": {},
   "outputs": [],
   "source": [
    "df.drop('Cabin', axis=1, inplace=True)\n",
    "df.drop('Cabin_level', axis=1, inplace=True)\n",
    "assert(df['deck_level'].dtypes == 'int64')"
   ]
  },
  {
   "cell_type": "code",
   "execution_count": 223,
   "metadata": {},
   "outputs": [
    {
     "data": {
      "text/html": [
       "<div>\n",
       "<style scoped>\n",
       "    .dataframe tbody tr th:only-of-type {\n",
       "        vertical-align: middle;\n",
       "    }\n",
       "\n",
       "    .dataframe tbody tr th {\n",
       "        vertical-align: top;\n",
       "    }\n",
       "\n",
       "    .dataframe thead th {\n",
       "        text-align: right;\n",
       "    }\n",
       "</style>\n",
       "<table border=\"1\" class=\"dataframe\">\n",
       "  <thead>\n",
       "    <tr style=\"text-align: right;\">\n",
       "      <th></th>\n",
       "      <th>PassengerId</th>\n",
       "      <th>Survived</th>\n",
       "      <th>Pclass</th>\n",
       "      <th>Name</th>\n",
       "      <th>Sex</th>\n",
       "      <th>Age</th>\n",
       "      <th>SibSp</th>\n",
       "      <th>Parch</th>\n",
       "      <th>Ticket</th>\n",
       "      <th>Fare</th>\n",
       "      <th>Embarked</th>\n",
       "      <th>deck_level</th>\n",
       "    </tr>\n",
       "  </thead>\n",
       "  <tbody>\n",
       "    <tr>\n",
       "      <th>0</th>\n",
       "      <td>1</td>\n",
       "      <td>0</td>\n",
       "      <td>3</td>\n",
       "      <td>Braund, Mr. Owen Harris</td>\n",
       "      <td>male</td>\n",
       "      <td>22.0</td>\n",
       "      <td>1</td>\n",
       "      <td>0</td>\n",
       "      <td>A/5 21171</td>\n",
       "      <td>7.2500</td>\n",
       "      <td>S</td>\n",
       "      <td>0</td>\n",
       "    </tr>\n",
       "    <tr>\n",
       "      <th>1</th>\n",
       "      <td>2</td>\n",
       "      <td>1</td>\n",
       "      <td>1</td>\n",
       "      <td>Cumings, Mrs. John Bradley (Florence Briggs Th...</td>\n",
       "      <td>female</td>\n",
       "      <td>38.0</td>\n",
       "      <td>1</td>\n",
       "      <td>0</td>\n",
       "      <td>PC 17599</td>\n",
       "      <td>71.2833</td>\n",
       "      <td>C</td>\n",
       "      <td>3</td>\n",
       "    </tr>\n",
       "    <tr>\n",
       "      <th>2</th>\n",
       "      <td>3</td>\n",
       "      <td>1</td>\n",
       "      <td>3</td>\n",
       "      <td>Heikkinen, Miss. Laina</td>\n",
       "      <td>female</td>\n",
       "      <td>26.0</td>\n",
       "      <td>0</td>\n",
       "      <td>0</td>\n",
       "      <td>STON/O2. 3101282</td>\n",
       "      <td>7.9250</td>\n",
       "      <td>S</td>\n",
       "      <td>0</td>\n",
       "    </tr>\n",
       "    <tr>\n",
       "      <th>3</th>\n",
       "      <td>4</td>\n",
       "      <td>1</td>\n",
       "      <td>1</td>\n",
       "      <td>Futrelle, Mrs. Jacques Heath (Lily May Peel)</td>\n",
       "      <td>female</td>\n",
       "      <td>35.0</td>\n",
       "      <td>1</td>\n",
       "      <td>0</td>\n",
       "      <td>113803</td>\n",
       "      <td>53.1000</td>\n",
       "      <td>S</td>\n",
       "      <td>3</td>\n",
       "    </tr>\n",
       "    <tr>\n",
       "      <th>4</th>\n",
       "      <td>5</td>\n",
       "      <td>0</td>\n",
       "      <td>3</td>\n",
       "      <td>Allen, Mr. William Henry</td>\n",
       "      <td>male</td>\n",
       "      <td>35.0</td>\n",
       "      <td>0</td>\n",
       "      <td>0</td>\n",
       "      <td>373450</td>\n",
       "      <td>8.0500</td>\n",
       "      <td>S</td>\n",
       "      <td>0</td>\n",
       "    </tr>\n",
       "  </tbody>\n",
       "</table>\n",
       "</div>"
      ],
      "text/plain": [
       "   PassengerId  Survived  Pclass  \\\n",
       "0            1         0       3   \n",
       "1            2         1       1   \n",
       "2            3         1       3   \n",
       "3            4         1       1   \n",
       "4            5         0       3   \n",
       "\n",
       "                                                Name     Sex   Age  SibSp  \\\n",
       "0                            Braund, Mr. Owen Harris    male  22.0      1   \n",
       "1  Cumings, Mrs. John Bradley (Florence Briggs Th...  female  38.0      1   \n",
       "2                             Heikkinen, Miss. Laina  female  26.0      0   \n",
       "3       Futrelle, Mrs. Jacques Heath (Lily May Peel)  female  35.0      1   \n",
       "4                           Allen, Mr. William Henry    male  35.0      0   \n",
       "\n",
       "   Parch            Ticket     Fare Embarked  deck_level  \n",
       "0      0         A/5 21171   7.2500        S           0  \n",
       "1      0          PC 17599  71.2833        C           3  \n",
       "2      0  STON/O2. 3101282   7.9250        S           0  \n",
       "3      0            113803  53.1000        S           3  \n",
       "4      0            373450   8.0500        S           0  "
      ]
     },
     "execution_count": 223,
     "metadata": {},
     "output_type": "execute_result"
    }
   ],
   "source": [
    "df.head()"
   ]
  },
  {
   "cell_type": "markdown",
   "metadata": {},
   "source": [
    "###### Embarkment Feature Conversion\n",
    "Similar to the old Cabin attribute, the Embarked attribute is also of type object (string). \n",
    "It doesn't have any missing values, but it would be ideal for us to turn this into a numerical feature as well.\n",
    "Luckily, we can simply map the three unique string values (\"S\", \"C\", \"Q\") that are in this feature to categorical integers as well. "
   ]
  },
  {
   "cell_type": "code",
   "execution_count": 224,
   "metadata": {},
   "outputs": [
    {
     "data": {
      "text/plain": [
       "array(['S', 'C', 'Q'], dtype=object)"
      ]
     },
     "execution_count": 224,
     "metadata": {},
     "output_type": "execute_result"
    }
   ],
   "source": [
    "df.Embarked.unique()"
   ]
  },
  {
   "cell_type": "code",
   "execution_count": 225,
   "metadata": {},
   "outputs": [
    {
     "data": {
      "text/plain": [
       "array([1, 2, 3], dtype=int64)"
      ]
     },
     "execution_count": 225,
     "metadata": {},
     "output_type": "execute_result"
    }
   ],
   "source": [
    "embarkment_mapping = {\"S\":1, \"C\":2, \"Q\":3}\n",
    "df.Embarked = df.Embarked.map(embarkment_mapping)\n",
    "df.Embarked.unique()"
   ]
  },
  {
   "cell_type": "markdown",
   "metadata": {},
   "source": [
    "Done!"
   ]
  },
  {
   "cell_type": "markdown",
   "metadata": {},
   "source": [
    "###### Sex Feature Conversion\n",
    "One other obvious issue with this data would be the Sex feature, which assigns each passeger either a string value of either \"Male\" or \"Female\".\n",
    "\n",
    "Since we prefer to keep as much data as numeric as possible, let's convert this attribute to a binary indicator, where \"Male\" will be indicated by 0, and \"Female\" by 1."
   ]
  },
  {
   "cell_type": "code",
   "execution_count": 226,
   "metadata": {},
   "outputs": [
    {
     "data": {
      "text/plain": [
       "array([0, 1], dtype=int64)"
      ]
     },
     "execution_count": 226,
     "metadata": {},
     "output_type": "execute_result"
    }
   ],
   "source": [
    "df.loc[df['Sex'] == 'male', 'Sex'] = int(0)\n",
    "df.loc[df['Sex'] == 'female', 'Sex'] = int(1)\n",
    "df = df.astype({\"Sex\": 'int64'})\n",
    "df.Sex.unique() #sanity check"
   ]
  },
  {
   "cell_type": "markdown",
   "metadata": {},
   "source": [
    "### Dropping Unnecessary Columns\n",
    "The remaining \"Object\" (string) type columns are the attributes Name and Ticket. Let's analyze why we might want to drop either or both of these columns."
   ]
  },
  {
   "cell_type": "markdown",
   "metadata": {},
   "source": [
    "###### \"Name\" attribute\n",
    "As this is a binary classification task focused on predicting survival, we can use common-sense here combined with domain knowledge to assume that the passenger's name is unlikely to impact their chances of survival, and thus the Name feature will unlikely directly contribute to the outcome.\n",
    "\n",
    "The name of each passenger is almost guaranteed to be unique to the passenger, and thus will have limited predictive power in terms of their chances of survival.\n",
    "\n",
    "More over, since each name will assumably be unique, this results in a high cardinality of values; having a feautre with such high cardinality in the model will lead to overfitting, since the model might learn to associate specific names with survival rather than meaningful patterns in the more relevant data.\n",
    "\n",
    "Thus, let's drop the Name column from the data."
   ]
  },
  {
   "cell_type": "code",
   "execution_count": 227,
   "metadata": {},
   "outputs": [],
   "source": [
    "df = df.drop(columns=[\"Name\"])"
   ]
  },
  {
   "cell_type": "markdown",
   "metadata": {},
   "source": [
    "###### \"Ticket\" attribute"
   ]
  },
  {
   "cell_type": "code",
   "execution_count": 228,
   "metadata": {},
   "outputs": [
    {
     "data": {
      "text/plain": [
       "array(['A/5 21171', 'PC 17599', 'STON/O2. 3101282', '113803', '373450',\n",
       "       '330877', '17463', '349909', '347742', '237736'], dtype=object)"
      ]
     },
     "execution_count": 228,
     "metadata": {},
     "output_type": "execute_result"
    }
   ],
   "source": [
    "df.Ticket.unique()[:10]"
   ]
  },
  {
   "cell_type": "markdown",
   "metadata": {},
   "source": [
    "Similar to the \"Name\" attribute, the Ticket attribute consists of alphanumeric vlaues that do not inherently convey any meaningful information. This would make it difficult to extract any meaningful information for the model to use at all. \n",
    "\n",
    "Moreover, similar to the \"Name\" attribute, this attribute is expected to have a very high cardinality, as each passenger was most likely assigned a unique ticket number. Again, high cardinality can lead to overfitting, which we want to avoid.\n",
    "\n",
    "Let's drop the Ticket column from the data as well."
   ]
  },
  {
   "cell_type": "code",
   "execution_count": 229,
   "metadata": {},
   "outputs": [],
   "source": [
    "df = df.drop(columns=[\"Ticket\"])"
   ]
  },
  {
   "cell_type": "markdown",
   "metadata": {},
   "source": [
    "###### \"PassengerId\" attribute\n",
    "Similar to the two attributes above, PassengerID will be unique to the passenger, and will introduce a higher complexity that is most likely unneeded for this prediction task.\n",
    "Let's drop this attribute as well."
   ]
  },
  {
   "cell_type": "code",
   "execution_count": 230,
   "metadata": {},
   "outputs": [],
   "source": [
    "df = df.drop(columns=[\"PassengerId\"])"
   ]
  },
  {
   "cell_type": "markdown",
   "metadata": {},
   "source": [
    "### Checking for imbalances in the Data\n",
    "For the reamining attributes, I'll use histograms to see the frequency of values across the dataset.\n",
    "The histograms used for this analysis are Figures 3 - 10 inclusive, along with the previously created Figure 1."
   ]
  },
  {
   "cell_type": "code",
   "execution_count": 231,
   "metadata": {},
   "outputs": [
    {
     "data": {
      "text/plain": [
       "<matplotlib.axes._subplots.AxesSubplot at 0x194b99c09d0>"
      ]
     },
     "execution_count": 231,
     "metadata": {},
     "output_type": "execute_result"
    },
    {
     "data": {
      "image/png": "[encoded data removed]",
      "text/plain": [
       "<Figure size 432x288 with 1 Axes>"
      ]
     },
     "metadata": {
      "needs_background": "light"
     },
     "output_type": "display_data"
    }
   ],
   "source": [
    "#Survived Attribute    \n",
    "fig3 = df.Survived.value_counts().plot(kind='bar')\n",
    "plt.xlabel(\"Survived\")\n",
    "plt.ylabel(\"Frequency\")\n",
    "plt.title(\"Figure 3: Bar Plot - Freq. of Survival Among Passengers\")\n",
    "fig3"
   ]
  },
  {
   "cell_type": "code",
   "execution_count": 232,
   "metadata": {},
   "outputs": [
    {
     "data": {
      "text/plain": [
       "<matplotlib.axes._subplots.AxesSubplot at 0x194b9a2e220>"
      ]
     },
     "execution_count": 232,
     "metadata": {},
     "output_type": "execute_result"
    },
    {
     "data": {
      "image/png": "[encoded data removed]",
      "text/plain": [
       "<Figure size 432x288 with 1 Axes>"
      ]
     },
     "metadata": {
      "needs_background": "light"
     },
     "output_type": "display_data"
    }
   ],
   "source": [
    "#PClass Attribute    \n",
    "fig4 = df.Pclass.value_counts().sort_index().plot(kind='bar')\n",
    "plt.xlabel(\"Pclass\")\n",
    "plt.ylabel(\"Frequency\")\n",
    "plt.title(\"Figure 4: Bar Plot - Freq. of Pclass\")\n",
    "fig4"
   ]
  },
  {
   "cell_type": "code",
   "execution_count": 233,
   "metadata": {},
   "outputs": [
    {
     "data": {
      "text/plain": [
       "<matplotlib.axes._subplots.AxesSubplot at 0x194b99c9d60>"
      ]
     },
     "execution_count": 233,
     "metadata": {},
     "output_type": "execute_result"
    },
    {
     "data": {
      "image/png": "[encoded data removed]",
      "text/plain": [
       "<Figure size 432x288 with 1 Axes>"
      ]
     },
     "metadata": {
      "needs_background": "light"
     },
     "output_type": "display_data"
    }
   ],
   "source": [
    "#Sex Attribute    \n",
    "fig5 = df.Sex.value_counts().plot(kind='bar')\n",
    "plt.xlabel(\"Sex\")\n",
    "plt.ylabel(\"Frequency\")\n",
    "plt.title(\"Figure 5: Bar Plot - Ratio of Male vs. Female in Data\")\n",
    "fig5"
   ]
  },
  {
   "cell_type": "code",
   "execution_count": 234,
   "metadata": {},
   "outputs": [
    {
     "data": {
      "text/plain": [
       "<matplotlib.axes._subplots.AxesSubplot at 0x194b9acdcd0>"
      ]
     },
     "execution_count": 234,
     "metadata": {},
     "output_type": "execute_result"
    },
    {
     "data": {
      "image/png": "[encoded data removed]",
      "text/plain": [
       "<Figure size 432x288 with 1 Axes>"
      ]
     },
     "metadata": {
      "needs_background": "light"
     },
     "output_type": "display_data"
    }
   ],
   "source": [
    "#SibSp Attribute    \n",
    "fig6 = df.SibSp.value_counts().sort_index().plot(kind='bar')\n",
    "plt.xlabel(\"SibSp\")\n",
    "plt.ylabel(\"Frequency\")\n",
    "plt.title(\"Figure 6: Bar Plot - SibSp values in Data\")\n",
    "fig6"
   ]
  },
  {
   "cell_type": "code",
   "execution_count": 235,
   "metadata": {},
   "outputs": [
    {
     "data": {
      "text/plain": [
       "<matplotlib.axes._subplots.AxesSubplot at 0x194baf05c70>"
      ]
     },
     "execution_count": 235,
     "metadata": {},
     "output_type": "execute_result"
    },
    {
     "data": {
      "image/png": "[encoded data removed]",
      "text/plain": [
       "<Figure size 432x288 with 1 Axes>"
      ]
     },
     "metadata": {
      "needs_background": "light"
     },
     "output_type": "display_data"
    }
   ],
   "source": [
    "#Parch Attribute    \n",
    "fig7 = df.Parch.value_counts().sort_index().plot(kind='bar')\n",
    "plt.xlabel(\"Parch\")\n",
    "plt.ylabel(\"Frequency\")\n",
    "plt.title(\"Figure 7: Bar Plot - Parch values in Data\")\n",
    "fig7"
   ]
  },
  {
   "cell_type": "code",
   "execution_count": 236,
   "metadata": {},
   "outputs": [
    {
     "data": {
      "text/plain": [
       "(array([732., 104.,  31.,   2.,  11.,   6.,   0.,   0.,   0.,   3.]),\n",
       " array([  0.     ,  51.23292, 102.46584, 153.69876, 204.93168, 256.1646 ,\n",
       "        307.39752, 358.63044, 409.86336, 461.09628, 512.3292 ]),\n",
       " <a list of 10 Patch objects>)"
      ]
     },
     "execution_count": 236,
     "metadata": {},
     "output_type": "execute_result"
    },
    {
     "data": {
      "image/png": "[encoded data removed]",
      "text/plain": [
       "<Figure size 432x288 with 1 Axes>"
      ]
     },
     "metadata": {
      "needs_background": "light"
     },
     "output_type": "display_data"
    }
   ],
   "source": [
    "#Fare attribute\n",
    "counts, bins = np.histogram(df.Fare)\n",
    "fig8 = plt.hist(bins[:-1], bins, weights = counts)\n",
    "plt.xlabel(\"Fare\")\n",
    "plt.ylabel(\"Frequency\")\n",
    "plt.title(\"Figure 8: Bar Plot - Distribution of Fare Values\")\n",
    "fig8"
   ]
  },
  {
   "cell_type": "code",
   "execution_count": 237,
   "metadata": {},
   "outputs": [
    {
     "data": {
      "text/plain": [
       "<matplotlib.axes._subplots.AxesSubplot at 0x194b9ac69d0>"
      ]
     },
     "execution_count": 237,
     "metadata": {},
     "output_type": "execute_result"
    },
    {
     "data": {
      "image/png": "[encoded data removed]",
      "text/plain": [
       "<Figure size 432x288 with 1 Axes>"
      ]
     },
     "metadata": {
      "needs_background": "light"
     },
     "output_type": "display_data"
    }
   ],
   "source": [
    "#Embarked Attribute    \n",
    "fig9 = df.Embarked.value_counts().plot(kind='bar')\n",
    "plt.xlabel(\"Embarked\")\n",
    "plt.ylabel(\"Frequency\")\n",
    "plt.title(\"Figure 9: Bar Plot - Distribution of Embarkment\")\n",
    "fig9"
   ]
  },
  {
   "cell_type": "code",
   "execution_count": 238,
   "metadata": {},
   "outputs": [
    {
     "data": {
      "text/plain": [
       "<matplotlib.axes._subplots.AxesSubplot at 0x194bb03b0d0>"
      ]
     },
     "execution_count": 238,
     "metadata": {},
     "output_type": "execute_result"
    },
    {
     "data": {
      "image/png": "[encoded data removed]",
      "text/plain": [
       "<Figure size 432x288 with 1 Axes>"
      ]
     },
     "metadata": {
      "needs_background": "light"
     },
     "output_type": "display_data"
    }
   ],
   "source": [
    "#Deck Level Attribute    \n",
    "fig10 = df['deck_level'].value_counts().sort_index().plot(kind='bar')\n",
    "plt.xlabel(\"Deck Level\")\n",
    "plt.ylabel(\"Frequency\")\n",
    "plt.title(\"Figure 10: Bar Plot - Distribution of Passengers by Deck Level\")\n",
    "fig10"
   ]
  },
  {
   "cell_type": "markdown",
   "metadata": {},
   "source": [
    "From a visual analysis of the histograms, we can note a few findings with respect to the data:\n",
    "\n",
    "1. The target attribute (Survived) is relatively unskewed compared to other attributes, although it's worth noting that according to the historgram, the majority of passengers did not survive, and thus the information that will be available for the model to use to determine whether or not an unseen passenger falls into the \"Survived\" cateogry is less than that of what is available for it to learn about the \"Did Not Survive\" category. Thus, I can expect the model may have a potential problem with false negatives with respect to the \"Survived\" category.\n",
    "\n",
    "2. The attributes Sex, and Pclass are also slightly skewed, but no expected issues here.\n",
    "\n",
    "3. The remaining attributes, Sibsp, Parch, Fare, Embarked and deck_level all seem to be either slightly skewed or contain groupings of outliers. Since the majority of outliers are not completely random or small or small in these attributes, it's reasonable to assume that we can leave them in the data to prevent the model from overfitting."
   ]
  },
  {
   "cell_type": "markdown",
   "metadata": {},
   "source": [
    "### Data Cleaning Summary (Conclusion and Discussions)\n",
    "In conclusion, the following data cleaning and data munging steps were conducted:\n",
    "1. Handling Missing/Null Values in the Data\n",
    "    1. Three attributes; Age, Embarkment, Cabin were identified as having non-string-typed nulls.\n",
    "        1. Null values in Age were imputed to the median, as it was noticed that the data was skewed to the ages of 20-30 (see Figure 1)\n",
    "        2. Only 2 values in Embarked were null values, so those observations were removed from the dataset since they comprised  < 0.5% of the data\n",
    "        3. Null values in Cabin were imputed to \"Unknown\", to be used lated for feature engineering.\n",
    "2. Data Conversions\n",
    "    1. The Sex attribute was converted from an Object (string) type to a binary indicator, (i.e. \"Male\" --> 0, \"Female\" --> 1) for the sake of efficiency.This also maintains the binary nature of this binary classification problem, and allows us to simply the modeling process.\n",
    "    2. The Embarkment attribute was similarly converted from an Object (string) type to numerical mapping in order to represent th same information but matching the numerical data type of the dataset.\n",
    "\n",
    "3. Removing Unnecessary Attributes\n",
    "    1. Both the \"Name\" and \"Ticket\" attribute was dropped as it was determined that neither of these attributes would contribute any predictive power/information to the model relevant to survivorship, and due to the high complexity (i.e. every passenger will have a unique name and Ticket number).\n",
    "    2. Similarly, the PassengerID attribute was removed due to irrelevance -- it acted as an index for the dataset, and would've introduced an unnessecary high-dimensional attribute to the model while providing little predictive power.\n",
    "    \n",
    "##### Visualizations\n",
    "To aid in the data cleaning step, I created 2 seperate visualizations as shown above:\n",
    "1. Figure 1: Histogram of Age vs. Frequency in the Data\n",
    "    1. Purpose: Determine imbalances in the Age attribute in order to decide which method to use for missing value imputation\n",
    "2. Figure 2: Scatterplot of Fare vs. Pclass\n",
    "    1. Purpose: To analyze whether or not there was an obvious relation between the two features that may indicate socioeconomic status relative to positioning on the ship to justify potentially removing the Cabin attribute entirely.\n",
    "3. Figures 3 - 10: Bar Plots\n",
    "    1. Figures 3 - 10 were used to visually inspect the data for any skewing, imbalances, or outliers. \n",
    "    \n",
    "Finally, now that we've completed the Data Cleaning portion of this project, we can use df.info() to see that all data types of all attributes are numeric (int or float).\n",
    "\n",
    "We now have a datast with nine (9) columns/attributes, and 889 observations."
   ]
  },
  {
   "cell_type": "code",
   "execution_count": 239,
   "metadata": {},
   "outputs": [
    {
     "name": "stdout",
     "output_type": "stream",
     "text": [
      "<class 'pandas.core.frame.DataFrame'>\n",
      "Int64Index: 889 entries, 0 to 890\n",
      "Data columns (total 9 columns):\n",
      " #   Column      Non-Null Count  Dtype  \n",
      "---  ------      --------------  -----  \n",
      " 0   Survived    889 non-null    int64  \n",
      " 1   Pclass      889 non-null    int64  \n",
      " 2   Sex         889 non-null    int64  \n",
      " 3   Age         889 non-null    float64\n",
      " 4   SibSp       889 non-null    int64  \n",
      " 5   Parch       889 non-null    int64  \n",
      " 6   Fare        889 non-null    float64\n",
      " 7   Embarked    889 non-null    int64  \n",
      " 8   deck_level  889 non-null    int64  \n",
      "dtypes: float64(2), int64(7)\n",
      "memory usage: 69.5 KB\n"
     ]
    }
   ],
   "source": [
    "df.info()"
   ]
  },
  {
   "cell_type": "markdown",
   "metadata": {},
   "source": [
    "## Exploratory Data Analysis (EDA)\n",
    "Now that we've completed Data Cleaning, and we've gotten some sense of what the distribution of data looks like, let's begin EDA.\n",
    "We'll execute the following steps for a complete analysis:\n",
    "1. Analyze Summary Statistics\n",
    "2. Simple Data Visualization (including a correlation matrix)\n",
    "3. Statistical Testing (using the Mann-Whitney U test)\n",
    "4. EDA Summary/Conclusion"
   ]
  },
  {
   "cell_type": "markdown",
   "metadata": {},
   "source": [
    "### 1. Analysis of Summary Statistics\n",
    "In this step, we'll use the summary statistics of all attributes to analyze the central tendencies, spread and distribution. Our interpretations here should support what we noted in Figures 1 - 10 earlier."
   ]
  },
  {
   "cell_type": "code",
   "execution_count": 240,
   "metadata": {},
   "outputs": [
    {
     "data": {
      "text/html": [
       "<div>\n",
       "<style scoped>\n",
       "    .dataframe tbody tr th:only-of-type {\n",
       "        vertical-align: middle;\n",
       "    }\n",
       "\n",
       "    .dataframe tbody tr th {\n",
       "        vertical-align: top;\n",
       "    }\n",
       "\n",
       "    .dataframe thead th {\n",
       "        text-align: right;\n",
       "    }\n",
       "</style>\n",
       "<table border=\"1\" class=\"dataframe\">\n",
       "  <thead>\n",
       "    <tr style=\"text-align: right;\">\n",
       "      <th></th>\n",
       "      <th>Survived</th>\n",
       "      <th>Pclass</th>\n",
       "      <th>Sex</th>\n",
       "      <th>Age</th>\n",
       "      <th>SibSp</th>\n",
       "      <th>Parch</th>\n",
       "      <th>Fare</th>\n",
       "      <th>Embarked</th>\n",
       "      <th>deck_level</th>\n",
       "    </tr>\n",
       "  </thead>\n",
       "  <tbody>\n",
       "    <tr>\n",
       "      <th>count</th>\n",
       "      <td>889.000000</td>\n",
       "      <td>889.000000</td>\n",
       "      <td>889.000000</td>\n",
       "      <td>889.000000</td>\n",
       "      <td>889.000000</td>\n",
       "      <td>889.000000</td>\n",
       "      <td>889.000000</td>\n",
       "      <td>889.000000</td>\n",
       "      <td>889.000000</td>\n",
       "    </tr>\n",
       "    <tr>\n",
       "      <th>mean</th>\n",
       "      <td>0.382452</td>\n",
       "      <td>2.311586</td>\n",
       "      <td>0.350956</td>\n",
       "      <td>29.315152</td>\n",
       "      <td>0.524184</td>\n",
       "      <td>0.382452</td>\n",
       "      <td>32.096681</td>\n",
       "      <td>1.362205</td>\n",
       "      <td>0.773903</td>\n",
       "    </tr>\n",
       "    <tr>\n",
       "      <th>std</th>\n",
       "      <td>0.486260</td>\n",
       "      <td>0.834700</td>\n",
       "      <td>0.477538</td>\n",
       "      <td>12.984932</td>\n",
       "      <td>1.103705</td>\n",
       "      <td>0.806761</td>\n",
       "      <td>49.697504</td>\n",
       "      <td>0.636157</td>\n",
       "      <td>1.591629</td>\n",
       "    </tr>\n",
       "    <tr>\n",
       "      <th>min</th>\n",
       "      <td>0.000000</td>\n",
       "      <td>1.000000</td>\n",
       "      <td>0.000000</td>\n",
       "      <td>0.420000</td>\n",
       "      <td>0.000000</td>\n",
       "      <td>0.000000</td>\n",
       "      <td>0.000000</td>\n",
       "      <td>1.000000</td>\n",
       "      <td>0.000000</td>\n",
       "    </tr>\n",
       "    <tr>\n",
       "      <th>25%</th>\n",
       "      <td>0.000000</td>\n",
       "      <td>2.000000</td>\n",
       "      <td>0.000000</td>\n",
       "      <td>22.000000</td>\n",
       "      <td>0.000000</td>\n",
       "      <td>0.000000</td>\n",
       "      <td>7.895800</td>\n",
       "      <td>1.000000</td>\n",
       "      <td>0.000000</td>\n",
       "    </tr>\n",
       "    <tr>\n",
       "      <th>50%</th>\n",
       "      <td>0.000000</td>\n",
       "      <td>3.000000</td>\n",
       "      <td>0.000000</td>\n",
       "      <td>28.000000</td>\n",
       "      <td>0.000000</td>\n",
       "      <td>0.000000</td>\n",
       "      <td>14.454200</td>\n",
       "      <td>1.000000</td>\n",
       "      <td>0.000000</td>\n",
       "    </tr>\n",
       "    <tr>\n",
       "      <th>75%</th>\n",
       "      <td>1.000000</td>\n",
       "      <td>3.000000</td>\n",
       "      <td>1.000000</td>\n",
       "      <td>35.000000</td>\n",
       "      <td>1.000000</td>\n",
       "      <td>0.000000</td>\n",
       "      <td>31.000000</td>\n",
       "      <td>2.000000</td>\n",
       "      <td>0.000000</td>\n",
       "    </tr>\n",
       "    <tr>\n",
       "      <th>max</th>\n",
       "      <td>1.000000</td>\n",
       "      <td>3.000000</td>\n",
       "      <td>1.000000</td>\n",
       "      <td>80.000000</td>\n",
       "      <td>8.000000</td>\n",
       "      <td>6.000000</td>\n",
       "      <td>512.329200</td>\n",
       "      <td>3.000000</td>\n",
       "      <td>8.000000</td>\n",
       "    </tr>\n",
       "  </tbody>\n",
       "</table>\n",
       "</div>"
      ],
      "text/plain": [
       "         Survived      Pclass         Sex         Age       SibSp       Parch  \\\n",
       "count  889.000000  889.000000  889.000000  889.000000  889.000000  889.000000   \n",
       "mean     0.382452    2.311586    0.350956   29.315152    0.524184    0.382452   \n",
       "std      0.486260    0.834700    0.477538   12.984932    1.103705    0.806761   \n",
       "min      0.000000    1.000000    0.000000    0.420000    0.000000    0.000000   \n",
       "25%      0.000000    2.000000    0.000000   22.000000    0.000000    0.000000   \n",
       "50%      0.000000    3.000000    0.000000   28.000000    0.000000    0.000000   \n",
       "75%      1.000000    3.000000    1.000000   35.000000    1.000000    0.000000   \n",
       "max      1.000000    3.000000    1.000000   80.000000    8.000000    6.000000   \n",
       "\n",
       "             Fare    Embarked  deck_level  \n",
       "count  889.000000  889.000000  889.000000  \n",
       "mean    32.096681    1.362205    0.773903  \n",
       "std     49.697504    0.636157    1.591629  \n",
       "min      0.000000    1.000000    0.000000  \n",
       "25%      7.895800    1.000000    0.000000  \n",
       "50%     14.454200    1.000000    0.000000  \n",
       "75%     31.000000    2.000000    0.000000  \n",
       "max    512.329200    3.000000    8.000000  "
      ]
     },
     "execution_count": 240,
     "metadata": {},
     "output_type": "execute_result"
    }
   ],
   "source": [
    "df.describe()"
   ]
  },
  {
   "cell_type": "markdown",
   "metadata": {},
   "source": [
    "###### Survived Attribute\n",
    "- Since 0 = Did Not Survive and 1 = Survived for this feature which implies that only 38.25% of the passengers survived. This suggests that the data is imbalanced, with a larger population of non-survivors.\n",
    "- We can tell that the distribution of \"Survived\" is imbalanced towards non-survivors.\n",
    "\n",
    "###### PClass Attribute\n",
    "- Since this is a categorial numerical indicator, the describe function isn't very useful here. From our earlier bar plot (Figure 4), we know that the majority of passengers were in class 3 (lower class), with less in classes 1 and 2.\n",
    "\n",
    "###### Sex Attribute\n",
    "- Since this is a categorial numerical indicator, the describe function isn't very useful here.\n",
    "- We know from our earlier bar plot (Fig 5) that there were more male passengers than female passengers (~51% to 39%)\n",
    "\n",
    "###### Age Attribute\n",
    "- As we noticed in our earlier histogram (Fig1), it's obvious that the average age is ~ 29 years old.\n",
    "- The minimum age of 0.42 suggets there are indants within the dataset, which we know to be true (it's noted that infants younger than 1 years old were denoted with fractional ages).\n",
    "- The oldest passenger in the dataset was 80 years old (as denoted by max)\n",
    "- The percentiles indicate that 25% of passengers were 22 years or younger, 50% of passengers were 28 years old or younger, and at least 75% of passengers were 35 years old or younger.\n",
    "- The data clearly covers a wide range of ages, from infants to the elderly.\n",
    "\n",
    "###### Sibsp Attribute\n",
    "- With a mean of 0.524184, we can conclude that on average, passengers either had 1 or no siblings or spouses aboard with them. Moreover, the small standard deviation (1.103) implies low variability in the number of siblings or spouses: the majority of people had between 0 siblings or spouses, or ~2 siblings or spouses with them. (0.524184 +- 1.103). \n",
    "- It's worth noting here again that fiances and mistresses were ignored in this data attribute, so this segment of the data might have underlying missing data.\n",
    "- The maximum number of sibligs and/or spouses in this dataset is 8 (perhaps a family with 8 children?).\n",
    "\n",
    "###### Parch Attribute\n",
    "- The dataset contains passengers with a rnage of numbers of parents or children abroad, from none to a maximum of 8.\n",
    "- The mean indicates that the majority of passengers did not have any parents or children abroad.\n",
    "- The mean value of ~0.38 is less than the median (0.0), indicating a positively skewed distribution with more passengers having fewer parents or children.\n",
    "\n",
    "###### Fare Attribute\n",
    "- The data contains a wide range of fare values, from free (0 dollars) fare to high-priced tickets.\n",
    "- The average price paid by a passenger was ~32 dollars, as depicted by the mean, but this is clearly skewed, as the 75% percentile tells us that at least 75% of passengers paid a fare of 31 dollars or lower.\n",
    "- The median (50% percentile) of ~14.45 is lower than the mean, confirming the above point by suggting a skewed distribution with more passengers purchasing lower-priced tickets.\n",
    "- How could a passenger pay a Fare of 0.0? Perhaps they were with a spouse/family member who paid the fare for both of them, or they were a crew member? This might be worth looking into!\n",
    "- It may also be worth looking into Fare vs. PClass closer than we did before, or perhaps looking into Fare vs. Deck Level to see if we can see any patterns in this attribute.\n",
    "\n",
    "###### Embarked Attribute\n",
    "- The percentiles here tell us that at least half of the passengers embarked at Port 1 - Southampton.\n",
    "- The numerical encoding here represts categorical port values, so this statistical analysis won't give us much information.\n",
    "\n",
    "###### Deck_Level Attribute\n",
    "- Since the deck levels have been encoded into numerical values and this is a categorical scheme, the values in this summary are not directly interpretable. \n",
    "- However, as we saw in Figure 10, the majority of passengers had an \"Unknown\" deck level in this encoding scheme. \n",
    "- It might be worthwhile to see if there's any relation between deck_level and survivorship to determine whether or not this attribute will be useful to the prediction, otherwise it may just be introducing noise.\n"
   ]
  },
  {
   "cell_type": "markdown",
   "metadata": {},
   "source": [
    "### 2. Simple Data Visualization\n",
    "\n",
    "__Bar Plots__\n",
    "\n",
    "In this section, we'll analyze the data further through the simple plots that we generated earlier and a correlation matrix.\n",
    "As part of data cleaning, I already generated bar plots/histograms for each of the attributes and did an analysis in the Data Cleaning Step. Please refer to that section (i.e. Data > Cleaning > Checking For Imbalances in the Data).\n"
   ]
  },
  {
   "cell_type": "markdown",
   "metadata": {},
   "source": [
    "__Correlation Matrix__\n",
    "\n",
    "Let's create a correlation matrix to see if we can determine the magnitude of correlation between features and the target attribute. We'll create it as a heatmap using Matplotlib and Seaborn so that we can see the correlations easier."
   ]
  },
  {
   "cell_type": "code",
   "execution_count": 241,
   "metadata": {},
   "outputs": [
    {
     "data": {
      "image/png": "[encoded data removed]",
      "text/plain": [
       "<Figure size 720x576 with 2 Axes>"
      ]
     },
     "metadata": {
      "needs_background": "light"
     },
     "output_type": "display_data"
    }
   ],
   "source": [
    "corr_matrix = df.corr()\n",
    "\n",
    "plt.figure(figsize=(10,8))\n",
    "sns.heatmap(corr_matrix, annot=True, cmap='coolwarm')\n",
    "plt.title(\"Figure 11: Correlation Matrix Heatmap\")\n",
    "plt.show()"
   ]
  },
  {
   "cell_type": "markdown",
   "metadata": {},
   "source": [
    "__Correlation Matrix Analysis__\n",
    "\n",
    "1. It seems that there's not much correlation between the target and the given features/attributes.\n",
    "2. The stronest postive, linear relationship to the target appears to be Sex (at 0.54 correlation), and the strongest negative linear correlation is Pclass (-0.34).\n",
    "    1. I therefore expect Pclass and Sex to have the highest feature importance in the model.\n",
    "3. deck_level and Fare have close to 0 correlation, indicating little to no linear relationship to the target variable.\n",
    "    1. Thus, I also expect these two features to have the lowest feature importance in the model.\n",
    "4. From reading this matrix, I also assume that the model might have trouble picking up signal from these attributes, and thus may have trouble learning the underlying patterns of the data. I expect underfitting to occur (before any ajustments are made).\n",
    "\n",
    "Some further notes:\n",
    "\n",
    "- The assumtion that deck_level would be correlated with Pclass is correct, it has a strong negative linear correlation.\n",
    "- Similarly, the Fare attribute has a stronger negative correlation to Pclass as well. From this note and the point above, we can probably assume that Pclass can be determined by some combination of Fare and deck_level.\n",
    "- It is also worth noting that deck_level has minimal correlation with Fare, which is unintuitive, but understandable when we recall that the category that occurs the most in deck_level is the \"Unknown\" category."
   ]
  },
  {
   "cell_type": "markdown",
   "metadata": {},
   "source": [
    "### 4. Statistical Testing (using the Mann-Whitney U test)\n",
    "As a final statistical test, let's analyze the statistical significance of our features, and ensure that they align with our understanding of the data so far.\n",
    "\n",
    "A regular p-test analysis may be unsable, since we know that our data is not normally distributed and imbalanced/skewed in areas.\n",
    "\n",
    "Instead, let's use the Mann-Whitney U test. This is a similar test that allows us to derive a p-value when the distribution of data of two groups (in our case, Survived or Not Survived) is not equal across the data. This will ensure a slightly higher accuracy in our resulting p-values, relative to our actual data distribution.\n",
    "\n",
    "We'll use the usual p<0.05 threshold to determine significance level.\n",
    "\n",
    "This test is included in the scipy.stats module: https://docs.scipy.org/doc/scipy/reference/generated/scipy.stats.mannwhitneyu.html"
   ]
  },
  {
   "cell_type": "code",
   "execution_count": 242,
   "metadata": {},
   "outputs": [
    {
     "name": "stdout",
     "output_type": "stream",
     "text": [
      "Figure 12: Results of Mann-Whitney U Test Statistical Analysis\n"
     ]
    },
    {
     "data": {
      "text/html": [
       "<div>\n",
       "<style scoped>\n",
       "    .dataframe tbody tr th:only-of-type {\n",
       "        vertical-align: middle;\n",
       "    }\n",
       "\n",
       "    .dataframe tbody tr th {\n",
       "        vertical-align: top;\n",
       "    }\n",
       "\n",
       "    .dataframe thead th {\n",
       "        text-align: right;\n",
       "    }\n",
       "</style>\n",
       "<table border=\"1\" class=\"dataframe\">\n",
       "  <thead>\n",
       "    <tr style=\"text-align: right;\">\n",
       "      <th></th>\n",
       "      <th>Attribute</th>\n",
       "      <th>p_value</th>\n",
       "      <th>Mann-Whitney U statistic</th>\n",
       "      <th>Significance</th>\n",
       "    </tr>\n",
       "  </thead>\n",
       "  <tbody>\n",
       "    <tr>\n",
       "      <th>0</th>\n",
       "      <td>Pclass</td>\n",
       "      <td>1.019408e-23</td>\n",
       "      <td>59736.5</td>\n",
       "      <td>Y</td>\n",
       "    </tr>\n",
       "    <tr>\n",
       "      <th>1</th>\n",
       "      <td>Sex</td>\n",
       "      <td>1.363739e-58</td>\n",
       "      <td>142969.5</td>\n",
       "      <td>Y</td>\n",
       "    </tr>\n",
       "    <tr>\n",
       "      <th>2</th>\n",
       "      <td>Age</td>\n",
       "      <td>2.215368e-01</td>\n",
       "      <td>88808.5</td>\n",
       "      <td>N</td>\n",
       "    </tr>\n",
       "    <tr>\n",
       "      <th>3</th>\n",
       "      <td>SibSp</td>\n",
       "      <td>6.730256e-03</td>\n",
       "      <td>101585.0</td>\n",
       "      <td>Y</td>\n",
       "    </tr>\n",
       "    <tr>\n",
       "      <th>4</th>\n",
       "      <td>Parch</td>\n",
       "      <td>2.973458e-05</td>\n",
       "      <td>104928.0</td>\n",
       "      <td>Y</td>\n",
       "    </tr>\n",
       "    <tr>\n",
       "      <th>5</th>\n",
       "      <td>Fare</td>\n",
       "      <td>1.192977e-21</td>\n",
       "      <td>128887.5</td>\n",
       "      <td>Y</td>\n",
       "    </tr>\n",
       "    <tr>\n",
       "      <th>6</th>\n",
       "      <td>Embarked</td>\n",
       "      <td>3.986990e-05</td>\n",
       "      <td>105293.0</td>\n",
       "      <td>Y</td>\n",
       "    </tr>\n",
       "    <tr>\n",
       "      <th>7</th>\n",
       "      <td>deck_level</td>\n",
       "      <td>1.094546e-20</td>\n",
       "      <td>118783.0</td>\n",
       "      <td>Y</td>\n",
       "    </tr>\n",
       "  </tbody>\n",
       "</table>\n",
       "</div>"
      ],
      "text/plain": [
       "    Attribute       p_value  Mann-Whitney U statistic Significance\n",
       "0      Pclass  1.019408e-23                   59736.5            Y\n",
       "1         Sex  1.363739e-58                  142969.5            Y\n",
       "2         Age  2.215368e-01                   88808.5            N\n",
       "3       SibSp  6.730256e-03                  101585.0            Y\n",
       "4       Parch  2.973458e-05                  104928.0            Y\n",
       "5        Fare  1.192977e-21                  128887.5            Y\n",
       "6    Embarked  3.986990e-05                  105293.0            Y\n",
       "7  deck_level  1.094546e-20                  118783.0            Y"
      ]
     },
     "execution_count": 242,
     "metadata": {},
     "output_type": "execute_result"
    }
   ],
   "source": [
    "#Perform Mann-Whitney U test\n",
    "significance = 0.05 #Significance Level\n",
    "\n",
    "\n",
    "def MannWhitneyU(df, significance, Target_feature, test_features):\n",
    "    df_MannWhitneyU_results = pd.DataFrame(columns=['Attribute', \"p_value\", 'Mann-Whitney U statistic', 'Significance'])\n",
    "    \n",
    "    attributes = []\n",
    "    p_values = []\n",
    "    MWU_stat = []\n",
    "    Signif = []\n",
    "    \n",
    "    for feature in test_features:\n",
    "        data1 = df[df[Target_feature] == 1][feature]\n",
    "        data2 = df[df[Target_feature] == 0][feature]\n",
    "        \n",
    "        statistic, p_value = stats.mannwhitneyu(data1, data2, alternative='two-sided')\n",
    "        \n",
    "        attributes.append(feature)\n",
    "        p_values.append(p_value)\n",
    "        MWU_stat.append(statistic)\n",
    "        \n",
    "        if p_value < significance:\n",
    "            Signif.append(\"Y\")\n",
    "        else:\n",
    "            Signif.append(\"N\")\n",
    "    \n",
    "    df_MannWhitneyU_results['Attribute'] = attributes\n",
    "    df_MannWhitneyU_results[\"p_value\"] = p_values\n",
    "    df_MannWhitneyU_results['Mann-Whitney U statistic'] = MWU_stat\n",
    "    df_MannWhitneyU_results['Significance'] = Signif\n",
    "                \n",
    "    return df_MannWhitneyU_results\n",
    "\n",
    "features = df.columns[1:]\n",
    "MWU_test = MannWhitneyU(df, 0.05, \"Survived\", list(features))\n",
    "print(\"Figure 12: Results of Mann-Whitney U Test Statistical Analysis\")\n",
    "MWU_test"
   ]
  },
  {
   "cell_type": "markdown",
   "metadata": {},
   "source": [
    "__Mann-Whitney U Test Results Analysis__\n",
    "\n",
    "Based on the Mann-Whitney U test, it appears that the only non-significant feature in the data is Age. This implies that there is no statistically significant difference in the distribution of \"Age\" between the \"Survived\" and \"Not Survived\" groups.\n",
    "\n",
    "*Does this mean that we should drop it from the model?*\n",
    "\n",
    "The lack of statistical significance doesn't mean that the Age feature will be completely useless. From our correlation matrix (Figure 11), we can see that it has negative linear correlations with some other features, and it's thus possible that age may still have an effect on the model's learning when in combination with other features.\n",
    "\n",
    "With that in mind, we also have a limited dataset size (<900 observations) from the model to learn from, so dropping this feature might make us lose more information than we intend. \n",
    "\n",
    "For now, let's keep Age in the dataset and see how the model handles it.\n",
    "\n"
   ]
  },
  {
   "cell_type": "markdown",
   "metadata": {},
   "source": [
    "### 4. EDA Summary\n",
    "\n",
    "In conclusions, we've performed the following steps for the EDA analysis:\n",
    "\n",
    "1. Analyzed the data summary statistics to get a more numerical sense of basics of the distribution, central tendency and spread of the data.\n",
    "2. Categorical plots (histograms/bar charts) for each feature to visually inspect the imbalances and distributions across the data (specifically for categorical features).\n",
    "2. Created a Correlation Matrix to see linear correlations between all the features in the data.\n",
    "3. Conducted a Mann-Whitney U test to see statistical significance of each feature relative to the target.\n",
    "\n",
    "Let's move on to modeling!"
   ]
  },
  {
   "cell_type": "markdown",
   "metadata": {},
   "source": [
    "## Modeling Phase\n",
    "\n",
    "Now that we've completed the EDA phase and we better understand the data, let's go ahead and create our models.\n",
    "\n",
    "__Choice of models and justifications__\n",
    "\n",
    "We'll be creating two models: a Logistic Regression model and a Random Forest model.\n",
    "\n",
    "**Why the Logistic Regression Model?**\n",
    "\n",
    "- Logistic regression models the probability of the outcome (i.e. Survivorship) as a function of the predictor values (i.e. attributes), and uses the logistic function to map the probability to the range [0,1]. Thus, it's perfect for this Binary Classification Task where we need do predict the output variable that is discrete in two classes (Survived or Not Survived).\n",
    "\n",
    "**Why the Random Forest Model**\n",
    "\n",
    "- Random Forest is an ensemble learning model that is particularly useful when dealing with datasets that have a mix of categorical and numerical features, like we do in this dataset. It can capture complex relationships between features and target, which we may have missed in the EDA step. It also handles non-linearities well, which may not have been obvious while perfoming EDA.\n",
    "\n",
    "Together, the Logistic Regression Model can act as a baseline model by the nature of its simplicity, whereas the Random Forest Model will act as the more advanced approach by combining multiple decision trees for improved performance. \n",
    "\n",
    "\n"
   ]
  },
  {
   "cell_type": "markdown",
   "metadata": {},
   "source": [
    "#### Modeling Data Preparation\n",
    "First, we'll split the data into two folds: training data and test data. We'll use 20% of the data for testing."
   ]
  },
  {
   "cell_type": "code",
   "execution_count": 243,
   "metadata": {},
   "outputs": [],
   "source": [
    "features = df.iloc[: , 1:]\n",
    "target = df[df.columns[:1]]\n",
    "X_train, X_test, y_train, y_test = train_test_split(features, target, test_size=0.2, random_state=42)"
   ]
  },
  {
   "cell_type": "markdown",
   "metadata": {},
   "source": [
    "We'll also standardize the features to be sure that the features are on a similar scale."
   ]
  },
  {
   "cell_type": "code",
   "execution_count": 244,
   "metadata": {},
   "outputs": [],
   "source": [
    "# Standardize features\n",
    "scaler = StandardScaler()\n",
    "X_train_scaled = scaler.fit_transform(X_train)\n",
    "X_test_scaled = scaler.transform(X_test)"
   ]
  },
  {
   "cell_type": "markdown",
   "metadata": {},
   "source": [
    "### Creating and Training Logistic Regression Model (using SMOTE)\n",
    "We'll use SMOTE to over sample the minority class to help mitigate the data imbalance we observed earlier in EDA and Data Cleaning.\n"
   ]
  },
  {
   "cell_type": "code",
   "execution_count": 245,
   "metadata": {},
   "outputs": [
    {
     "name": "stderr",
     "output_type": "stream",
     "text": [
      "C:\\Users\\alana\\anaconda3\\lib\\site-packages\\sklearn\\utils\\validation.py:1184: DataConversionWarning: A column-vector y was passed when a 1d array was expected. Please change the shape of y to (n_samples, ), for example using ravel().\n",
      "  y = column_or_1d(y, warn=True)\n"
     ]
    }
   ],
   "source": [
    "#Apply smote to training data\n",
    "smote = SMOTE(random_state=42)\n",
    "X_train_resampled, y_train_resampled = smote.fit_resample(X_train_scaled, y_train)\n",
    "\n",
    "# Create and train the Logistic Regression model\n",
    "model = LogisticRegression().fit(X_train_resampled, y_train_resampled)\n",
    "\n",
    "# Make predictions on the test set\n",
    "predictions = model.predict(X_test_scaled)\n",
    "\n",
    "# Calculate accuracy\n",
    "accuracy = accuracy_score(y_test, predictions)"
   ]
  },
  {
   "cell_type": "code",
   "execution_count": 246,
   "metadata": {},
   "outputs": [
    {
     "name": "stdout",
     "output_type": "stream",
     "text": [
      "Accuracy: 0.7921348314606742\n"
     ]
    }
   ],
   "source": [
    "#Print Accuracy and Predictions\n",
    "print(\"Accuracy:\", accuracy)"
   ]
  },
  {
   "cell_type": "markdown",
   "metadata": {},
   "source": [
    "### Creating and Training Random Forest Model (using SMOTE and Cross-Validation)\n",
    "We'll use SMOTE and Cross-Validation for this model to address the data imbalance and assess the generalization of the model more effectively. We'll use 5 folds for cross validation, which is usually pretty standard."
   ]
  },
  {
   "cell_type": "code",
   "execution_count": 247,
   "metadata": {},
   "outputs": [
    {
     "name": "stderr",
     "output_type": "stream",
     "text": [
      "C:\\Users\\alana\\anaconda3\\lib\\site-packages\\sklearn\\base.py:1151: DataConversionWarning: A column-vector y was passed when a 1d array was expected. Please change the shape of y to (n_samples,), for example using ravel().\n",
      "  return fit_method(estimator, *args, **kwargs)\n",
      "C:\\Users\\alana\\anaconda3\\lib\\site-packages\\sklearn\\base.py:1151: DataConversionWarning: A column-vector y was passed when a 1d array was expected. Please change the shape of y to (n_samples,), for example using ravel().\n",
      "  return fit_method(estimator, *args, **kwargs)\n",
      "C:\\Users\\alana\\anaconda3\\lib\\site-packages\\sklearn\\base.py:1151: DataConversionWarning: A column-vector y was passed when a 1d array was expected. Please change the shape of y to (n_samples,), for example using ravel().\n",
      "  return fit_method(estimator, *args, **kwargs)\n",
      "C:\\Users\\alana\\anaconda3\\lib\\site-packages\\sklearn\\base.py:1151: DataConversionWarning: A column-vector y was passed when a 1d array was expected. Please change the shape of y to (n_samples,), for example using ravel().\n",
      "  return fit_method(estimator, *args, **kwargs)\n",
      "C:\\Users\\alana\\anaconda3\\lib\\site-packages\\sklearn\\base.py:1151: DataConversionWarning: A column-vector y was passed when a 1d array was expected. Please change the shape of y to (n_samples,), for example using ravel().\n",
      "  return fit_method(estimator, *args, **kwargs)\n",
      "C:\\Users\\alana\\anaconda3\\lib\\site-packages\\sklearn\\base.py:1151: DataConversionWarning: A column-vector y was passed when a 1d array was expected. Please change the shape of y to (n_samples,), for example using ravel().\n",
      "  return fit_method(estimator, *args, **kwargs)\n",
      "C:\\Users\\alana\\anaconda3\\lib\\site-packages\\sklearn\\base.py:1151: DataConversionWarning: A column-vector y was passed when a 1d array was expected. Please change the shape of y to (n_samples,), for example using ravel().\n",
      "  return fit_method(estimator, *args, **kwargs)\n",
      "C:\\Users\\alana\\anaconda3\\lib\\site-packages\\sklearn\\base.py:1151: DataConversionWarning: A column-vector y was passed when a 1d array was expected. Please change the shape of y to (n_samples,), for example using ravel().\n",
      "  return fit_method(estimator, *args, **kwargs)\n",
      "C:\\Users\\alana\\anaconda3\\lib\\site-packages\\sklearn\\base.py:1151: DataConversionWarning: A column-vector y was passed when a 1d array was expected. Please change the shape of y to (n_samples,), for example using ravel().\n",
      "  return fit_method(estimator, *args, **kwargs)\n",
      "C:\\Users\\alana\\anaconda3\\lib\\site-packages\\sklearn\\base.py:1151: DataConversionWarning: A column-vector y was passed when a 1d array was expected. Please change the shape of y to (n_samples,), for example using ravel().\n",
      "  return fit_method(estimator, *args, **kwargs)\n"
     ]
    }
   ],
   "source": [
    "scalar = StandardScaler()\n",
    "X_scaled = scaler.fit_transform(features)\n",
    "\n",
    "smote = SMOTE(random_state=42)\n",
    "X_resampled, y_resampled = smote.fit_resample(X_scaled, target)\n",
    "\n",
    "# Create and train the Random Forest model with cross-validation\n",
    "rf_model = RandomForestClassifier(random_state=42)\n",
    "rf_predictions = cross_val_predict(rf_model, X_resampled, y_resampled, cv=5)  # Perform 5-fold cross-validation\n",
    "cross_val_scores = cross_val_score(rf_model, X_resampled, y_resampled, cv=5)  # Use 5-fold cross-validation\n",
    "\n",
    "# Calculate mean and standard deviation of cross-validation scores\n",
    "mean_accuracy = cross_val_scores.mean()\n",
    "std_accuracy = cross_val_scores.std()"
   ]
  },
  {
   "cell_type": "code",
   "execution_count": 248,
   "metadata": {},
   "outputs": [
    {
     "name": "stdout",
     "output_type": "stream",
     "text": [
      "Cross-Validation Scores: [0.76363636 0.81818182 0.82272727 0.85388128 0.84018265]\n",
      "Mean Accuracy: 0.8197218762972188\n",
      "Standard Deviation of Accuracy: 0.03079771703795994\n"
     ]
    }
   ],
   "source": [
    "print(\"Cross-Validation Scores:\", cross_val_scores)\n",
    "print(\"Mean Accuracy:\", mean_accuracy)\n",
    "print(\"Standard Deviation of Accuracy:\", std_accuracy)"
   ]
  },
  {
   "cell_type": "markdown",
   "metadata": {},
   "source": [
    "### Modeling Phase Summary and Continuing Analysis\n",
    "\n",
    "We've created TWO ML Models for this binary classification problem (A Logistic Regression Model and a Random Forest Model), that utilize feature engineering (in the case of deck_level), and use standardization of feautres, as well as SMOTE and cross-validation!\n",
    "\n",
    "\n",
    "Now, we can go ahead and analyze our results.\n",
    "\n",
    "We'll tackle this by analyzing the model in a few ways:\n",
    "1. Accuracy and Cross-Validation Scores\n",
    "2. Precision, Recall and F1-Score (useful for imbalanced datasets)"
   ]
  },
  {
   "cell_type": "markdown",
   "metadata": {},
   "source": [
    "#### Accuracy and Cross-Validation Scores\n",
    "Let's compare the accuracy scores for both models, and then look at the cross-validation score for the Random Forest Model"
   ]
  },
  {
   "cell_type": "code",
   "execution_count": 249,
   "metadata": {},
   "outputs": [
    {
     "data": {
      "text/plain": [
       "Text(0.5, 1.0, 'Figure 13: Logistic Regression vs. Random Forest Accuracy Scores Bar Plot')"
      ]
     },
     "execution_count": 249,
     "metadata": {},
     "output_type": "execute_result"
    },
    {
     "data": {
      "image/png": "[encoded data removed]",
      "text/plain": [
       "<Figure size 432x288 with 1 Axes>"
      ]
     },
     "metadata": {
      "needs_background": "light"
     },
     "output_type": "display_data"
    }
   ],
   "source": [
    "lr_accuracy = accuracy\n",
    "rf_accuracy = mean_accuracy\n",
    "\n",
    "model_names = [\"Logistic Regression\", \"Random Forest\"]\n",
    "plt.bar(model_names, [lr_accuracy, rf_accuracy], color=[\"red\", \"blue\"])\n",
    "plt.xlabel(\"Model\")\n",
    "plt.ylabel(\"Accuracy\")\n",
    "plt.text(-0.3,0.8, str(lr_accuracy))\n",
    "plt.text(0.68,0.825, str(rf_accuracy))\n",
    "\n",
    "plt.title(\"Figure 13: Logistic Regression vs. Random Forest Accuracy Scores Bar Plot\")"
   ]
  },
  {
   "cell_type": "markdown",
   "metadata": {},
   "source": [
    "From Figure 13, we can see that the Random Forest model outperforms the Logistic Regression model in raw scored accuracy.\n",
    "\n",
    "Let's take a look at the cross-validation accuracy scores of Random Forest."
   ]
  },
  {
   "cell_type": "code",
   "execution_count": 250,
   "metadata": {},
   "outputs": [
    {
     "data": {
      "image/png": "[encoded data removed]",
      "text/plain": [
       "<Figure size 576x432 with 1 Axes>"
      ]
     },
     "metadata": {
      "needs_background": "light"
     },
     "output_type": "display_data"
    }
   ],
   "source": [
    "# Create a bar plot to visualize the cross-validation scores\n",
    "plt.figure(figsize=(8, 6))\n",
    "bars = plt.bar(range(1, len(cross_val_scores) + 1), cross_val_scores, color='blue')\n",
    "plt.xlabel('Fold')\n",
    "plt.ylabel('Cross-Validation Score')\n",
    "plt.title('Figure 14: Cross-Validation Scores for Random Forest Model')\n",
    "plt.xticks(range(1, len(cross_val_scores) + 1))\n",
    "plt.ylim(0.7, 1.0)  # Adjust y-axis limits as needed\n",
    "for bar, score in zip(bars, cross_val_scores):\n",
    "    plt.text(bar.get_x() + bar.get_width() / 2, bar.get_height() + 0.005, f'{score:.3f}', ha='center', va='bottom')\n",
    "\n",
    "plt.show()"
   ]
  },
  {
   "cell_type": "markdown",
   "metadata": {},
   "source": [
    "With only 5 folds, we can see a consistency in the accuracy (e.g. the mean accuracy +- standard deviation), which indicates better performance overall, and the fourth fold yielded the highest accuracy."
   ]
  },
  {
   "cell_type": "markdown",
   "metadata": {},
   "source": [
    "#### Precision, Recall and F1-Score\n",
    "Let's take a look at some more metrics, the precision, recall and f1-scores for both models, as these are useful to look at when we know we're working with imbalanced data."
   ]
  },
  {
   "cell_type": "code",
   "execution_count": 251,
   "metadata": {},
   "outputs": [
    {
     "name": "stdout",
     "output_type": "stream",
     "text": [
      "Figure 15: Table of Precision, Recall and F1 scores for each model\n"
     ]
    },
    {
     "data": {
      "text/html": [
       "<div>\n",
       "<style scoped>\n",
       "    .dataframe tbody tr th:only-of-type {\n",
       "        vertical-align: middle;\n",
       "    }\n",
       "\n",
       "    .dataframe tbody tr th {\n",
       "        vertical-align: top;\n",
       "    }\n",
       "\n",
       "    .dataframe thead th {\n",
       "        text-align: right;\n",
       "    }\n",
       "</style>\n",
       "<table border=\"1\" class=\"dataframe\">\n",
       "  <thead>\n",
       "    <tr style=\"text-align: right;\">\n",
       "      <th></th>\n",
       "      <th>Model</th>\n",
       "      <th>Precision</th>\n",
       "      <th>Recall_Scores</th>\n",
       "      <th>F1 Scores</th>\n",
       "    </tr>\n",
       "  </thead>\n",
       "  <tbody>\n",
       "    <tr>\n",
       "      <th>0</th>\n",
       "      <td>Logistic Regression</td>\n",
       "      <td>0.695122</td>\n",
       "      <td>0.826087</td>\n",
       "      <td>0.754967</td>\n",
       "    </tr>\n",
       "    <tr>\n",
       "      <th>1</th>\n",
       "      <td>Random Forest</td>\n",
       "      <td>0.824399</td>\n",
       "      <td>0.812386</td>\n",
       "      <td>0.818349</td>\n",
       "    </tr>\n",
       "  </tbody>\n",
       "</table>\n",
       "</div>"
      ],
      "text/plain": [
       "                 Model  Precision  Recall_Scores  F1 Scores\n",
       "0  Logistic Regression   0.695122       0.826087   0.754967\n",
       "1        Random Forest   0.824399       0.812386   0.818349"
      ]
     },
     "execution_count": 251,
     "metadata": {},
     "output_type": "execute_result"
    }
   ],
   "source": [
    "lr_precision = precision_score(y_test, predictions)\n",
    "lr_recall = recall_score(y_test, predictions)\n",
    "lr_f1 = f1_score(y_test, predictions)\n",
    "\n",
    "rf_precision = precision_score(y_resampled, rf_predictions)\n",
    "rf_recall = recall_score(y_resampled, rf_predictions)\n",
    "rf_f1 = f1_score(y_resampled, rf_predictions)\n",
    "\n",
    "metrics = pd.DataFrame({\n",
    "    \"Model\": [\"Logistic Regression\", \"Random Forest\"],\n",
    "    \"Precision\": [lr_precision, rf_precision],\n",
    "    \"Recall_Scores\": [lr_recall, rf_recall],\n",
    "    \"F1 Scores\": [lr_f1, rf_f1]\n",
    "})\n",
    "print(\"Figure 15: Table of Precision, Recall and F1 scores for each model\")\n",
    "metrics"
   ]
  },
  {
   "cell_type": "markdown",
   "metadata": {},
   "source": [
    "As expected, the Random Forest Model has a higher precision score, and a comparable Recall score, implying that it generally\n",
    "postively identifies Survivors better than the Logistic Regression model.\n",
    "\n",
    "Furthermore, noting the Random Forest's recall score alonside the precision score tells us that it generally doesn't make false positive errors, compared to the Logistic Regression model.\n",
    "\n",
    "Moreover, we can see this hypothesis confirmed in the F1 score, where the Random Forest has a higher F1. This implies that the model has a generally high precision and recall, and is achieving a better trade-off between precision and recall in its predictions compared to the Logistic Regression model.\n"
   ]
  },
  {
   "cell_type": "markdown",
   "metadata": {},
   "source": [
    "### Discussion and Conclusion\n",
    "\n",
    "In conclusion, this project was somewhat of a success, and from it I've gatehered learnings and takeaways, gained an understanding as to why performance was not stellar, and determined some ways to improve.\n",
    "\n",
    "**Learnings and Takeaways**\n",
    "\n",
    "- Data Preparation is key to accurate modeling. Handling missing values correctly is important, as is differentiating between categorical and numerical features. Feature engineering can really make or break the learning process as well!\n",
    "- It's not just the size of the dataset that can impact perforamnce; imbalances in the data provided can change your model, and technqiues like SMOTE can help adress this. \n",
    "- There is a tradeoff between too much data preprocessing/cleaning, and not enough. \n",
    "\n",
    "**New insights and understandings**\n",
    "\n",
    "- Handling the imbalance in data is important, and is most likely why the accuracy of these models wasn't increadibly high.\n",
    "- One reason for relatively low accuracy in the models may be the prescence of noisy or irrelevant features (perhaps Age really wasn't that important after all?), and it's important to dive into these feautres entirely before making the final selection.\n",
    "- Moreover, using metrics like precision, recall and F1-score are necessary to evaluate model performance, especially with data imbalance in the mix. \n",
    "\n",
    "**Methods for improvement**\n",
    "\n",
    "- For a more robust version of the Logistic Regression model, I could introduce cross-validation as well, which would ultimately yield to a better comparison against the Random Forest Model.\n",
    "- For the Logistic Regression Model, I could also try other types of regression to prevent overfitting and improve generalization (such as Elastic Net), which may greatly improve performance.\n",
    "- To improve on both of the models, I could take the Feature Importance approach and use select features per model. Just because data is in the data set, doesn't mean that I need to make use of it!\n",
    "- Next time, I could experiment with hyperparameter tuning on both models, by using methods like Grid Search to determine those factors."
   ]
  }
 ],
 "metadata": {
  "kernelspec": {
   "display_name": "Python 3",
   "language": "python",
   "name": "python3"
  },
  "language_info": {
   "codemirror_mode": {
    "name": "ipython",
    "version": 3
   },
   "file_extension": ".py",
   "mimetype": "text/x-python",
   "name": "python",
   "nbconvert_exporter": "python",
   "pygments_lexer": "ipython3",
   "version": "3.8.3"
  }
 },
 "nbformat": 4,
 "nbformat_minor": 4
}
